{
 "cells": [
  {
   "cell_type": "code",
   "id": "initial_id",
   "metadata": {
    "collapsed": true,
    "ExecuteTime": {
     "end_time": "2025-05-28T14:23:11.980135Z",
     "start_time": "2025-05-28T14:23:11.307036Z"
    }
   },
   "source": [
    "import numpy as np\n",
    "import pandas as pd\n",
    "\n",
    "# Define PSI calculation function\n",
    "def calculate_psi(expected, actual, buckettype='bins', n_bins=10):\n",
    "    \"\"\"\n",
    "    Calculate the Population Stability Index (PSI) between two samples.\n",
    "\n",
    "    Parameters:\n",
    "        expected (array-like): Reference distribution values\n",
    "        actual (array-like): New distribution values to compare\n",
    "        buckettype (str): 'bins' for equal-width bins; 'quantiles' for equal-frequency bins\n",
    "        n_bins (int): Number of bins to use\n",
    "\n",
    "    Returns:\n",
    "        float: PSI value\n",
    "    \"\"\"\n",
    "    expected = np.array(expected)\n",
    "    actual = np.array(actual)\n",
    "\n",
    "    if buckettype == 'bins':\n",
    "        breakpoints = np.linspace(np.min(expected), np.max(expected), n_bins + 1)\n",
    "    elif buckettype == 'quantiles':\n",
    "        breakpoints = np.quantile(expected, np.linspace(0, 1, n_bins + 1))\n",
    "    else:\n",
    "        raise ValueError(\"buckettype must be 'bins' or 'quantiles'\")\n",
    "\n",
    "    # Compute distribution in each bin\n",
    "    exp_counts = np.histogram(expected, bins=breakpoints)[0] / len(expected)\n",
    "    act_counts = np.histogram(actual, bins=breakpoints)[0] / len(actual)\n",
    "\n",
    "    # Avoid division by zero or log of zero\n",
    "    eps = 1e-6\n",
    "    exp_counts = np.where(exp_counts == 0, eps, exp_counts)\n",
    "    act_counts = np.where(act_counts == 0, eps, act_counts)\n",
    "\n",
    "    # Calculate PSI components and sum\n",
    "    psi_vals = (exp_counts - act_counts) * np.log(exp_counts / act_counts)\n",
    "    return np.sum(psi_vals)"
   ],
   "outputs": [],
   "execution_count": 1
  },
  {
   "metadata": {
    "ExecuteTime": {
     "end_time": "2025-05-28T14:23:12.840260Z",
     "start_time": "2025-05-28T14:23:11.981211Z"
    }
   },
   "cell_type": "code",
   "source": [
    "# Load and prepare data\n",
    "df = pd.read_csv('weather_data.csv')\n",
    "df['Date_Time'] = pd.to_datetime(df['Date_Time'])\n",
    "df['Day'] = df['Date_Time'].dt.day"
   ],
   "id": "b42c056b01283176",
   "outputs": [],
   "execution_count": 2
  },
  {
   "metadata": {
    "ExecuteTime": {
     "end_time": "2025-05-28T14:23:12.848313Z",
     "start_time": "2025-05-28T14:23:12.840981Z"
    }
   },
   "cell_type": "code",
   "source": [
    "# Separate temperatures for Day 1 and Day 2\n",
    "temp_day1 = df[df['Day'] == 1]['Temperature_C']\n",
    "temp_day2 = df[df['Day'] == 2]['Temperature_C']"
   ],
   "id": "7d4dbd2a611770e",
   "outputs": [],
   "execution_count": 3
  },
  {
   "metadata": {
    "ExecuteTime": {
     "end_time": "2025-05-28T14:23:12.864890Z",
     "start_time": "2025-05-28T14:23:12.849681Z"
    }
   },
   "cell_type": "code",
   "source": [
    "# Calculate PSI for both binning strategies\n",
    "psi_bins = calculate_psi(temp_day1, temp_day2, buckettype='bins', n_bins=10)\n",
    "psi_quant = calculate_psi(temp_day1, temp_day2, buckettype='quantiles', n_bins=10)"
   ],
   "id": "6cf5e2d056a65982",
   "outputs": [],
   "execution_count": 4
  },
  {
   "metadata": {
    "ExecuteTime": {
     "end_time": "2025-05-28T14:23:12.867503Z",
     "start_time": "2025-05-28T14:23:12.865579Z"
    }
   },
   "cell_type": "code",
   "source": [
    "print(f\"PSI (equal-width bins): {psi_bins:.4f}\")\n",
    "print(f\"PSI (equal-frequency bins): {psi_quant:.4f}\")"
   ],
   "id": "ee1aaee7dd2739f7",
   "outputs": [
    {
     "name": "stdout",
     "output_type": "stream",
     "text": [
      "PSI (equal-width bins): 0.0006\n",
      "PSI (equal-frequency bins): 0.0006\n"
     ]
    }
   ],
   "execution_count": 5
  },
  {
   "metadata": {
    "ExecuteTime": {
     "end_time": "2025-05-28T14:23:12.882119Z",
     "start_time": "2025-05-28T14:23:12.868138Z"
    }
   },
   "cell_type": "code",
   "source": [
    "# Cap outlier temperatures on Day 2 at 30°C and recompute PSI\n",
    "temp_day2_capped = temp_day2.clip(upper=30)\n",
    "psi_bins_capped = calculate_psi(temp_day1, temp_day2_capped, buckettype='bins', n_bins=10)\n",
    "psi_quant_capped = calculate_psi(temp_day1, temp_day2_capped, buckettype='quantiles', n_bins=10)"
   ],
   "id": "8eec19ff4a1473ef",
   "outputs": [],
   "execution_count": 6
  },
  {
   "metadata": {
    "ExecuteTime": {
     "end_time": "2025-05-28T14:23:12.884695Z",
     "start_time": "2025-05-28T14:23:12.882769Z"
    }
   },
   "cell_type": "code",
   "source": [
    "print(\"\\nAfter capping Day 2 temperatures > 30°C:\")\n",
    "print(f\"PSI (equal-width bins): {psi_bins_capped:.4f}\")\n",
    "print(f\"PSI (equal-frequency bins): {psi_quant_capped:.4f}\")"
   ],
   "id": "c200fdcabee5f714",
   "outputs": [
    {
     "name": "stdout",
     "output_type": "stream",
     "text": [
      "\n",
      "After capping Day 2 temperatures > 30°C:\n",
      "PSI (equal-width bins): 1.4184\n",
      "PSI (equal-frequency bins): 1.2157\n"
     ]
    }
   ],
   "execution_count": 7
  },
  {
   "metadata": {},
   "cell_type": "code",
   "outputs": [],
   "execution_count": null,
   "source": "",
   "id": "5aec9e7e0e7c4ccc"
  }
 ],
 "metadata": {
  "kernelspec": {
   "display_name": "Python 3",
   "language": "python",
   "name": "python3"
  },
  "language_info": {
   "codemirror_mode": {
    "name": "ipython",
    "version": 2
   },
   "file_extension": ".py",
   "mimetype": "text/x-python",
   "name": "python",
   "nbconvert_exporter": "python",
   "pygments_lexer": "ipython2",
   "version": "2.7.6"
  }
 },
 "nbformat": 4,
 "nbformat_minor": 5
}
